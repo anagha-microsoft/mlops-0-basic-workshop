{
 "cells": [
  {
   "cell_type": "code",
   "execution_count": 1,
   "metadata": {},
   "outputs": [],
   "source": [
    "import azureml.core\n",
    "from azureml.core import Workspace\n",
    "from azureml.core.webservice import Webservice\n",
    "from azureml.core.authentication import AzureCliAuthentication\n",
    "import requests\n",
    "import json"
   ]
  },
  {
   "cell_type": "code",
   "execution_count": 2,
   "metadata": {},
   "outputs": [],
   "source": [
    "#Azure subscription\n",
    "subscription_id = \"\" \n",
    "\n",
    "#Resource Group \n",
    "resource_group = \"mlops-rg\" \n",
    "\n",
    "#AML Workspace Name and associated Azure Region \n",
    "workspace_name = \"mlops-aml-ws\" \n",
    "workspace_region = \"eastus2\" \n",
    "\n",
    "#Webservice name, URL and key\n",
    "webservice_name = \"chd-preditcor-service\" # <- the name used by Azure DevOps pipeline\n",
    "webservice_url = \"\" \n",
    "webservice_key = \"\" "
   ]
  },
  {
   "cell_type": "code",
   "execution_count": 3,
   "metadata": {},
   "outputs": [
    {
     "name": "stdout",
     "output_type": "stream",
     "text": [
      "Workspace configuration succeeded\n"
     ]
    }
   ],
   "source": [
    "# By using the exist_ok param, if the worskpace already exists you get a reference to the existing workspace\n",
    "# allowing you to re-run this cell multiple times as desired (which is fairly common in notebooks).\n",
    "ws = Workspace.create(\n",
    "    name = workspace_name,\n",
    "    subscription_id = subscription_id,\n",
    "    resource_group = resource_group, \n",
    "    location = workspace_region,\n",
    "    exist_ok = True)\n",
    "\n",
    "ws.write_config()\n",
    "print('Workspace configuration succeeded')"
   ]
  },
  {
   "cell_type": "markdown",
   "metadata": {},
   "source": [
    "### Call the deployed model\n",
    "\n",
    "Since telemetry is not yet activated, no information will be recorded as a result of this call.\n",
    "\n",
    "**Note**: These calls are just used to demonstrate the telemetry functionality. We don't care here about the inputs and outputs of the deployed model."
   ]
  },
  {
   "cell_type": "code",
   "execution_count": 4,
   "metadata": {},
   "outputs": [],
   "source": [
    "# This is dummy data, just to test the call\n",
    "test_data = {\"data\":[[61, 1, 150, 103],[43, 1, 180, 99]]}"
   ]
  },
  {
   "cell_type": "code",
   "execution_count": 5,
   "metadata": {},
   "outputs": [
    {
     "name": "stdout",
     "output_type": "stream",
     "text": [
      "Predictions\n",
      "\"[1, 0]\"\n"
     ]
    }
   ],
   "source": [
    "headers = {'Content-Type':'application/json', 'Authorization':('Bearer '+ webservice_key)}\n",
    "response = requests.post(webservice_url, json.dumps(test_data), headers=headers)\n",
    "print('Predictions')\n",
    "print(response.text)"
   ]
  },
  {
   "cell_type": "markdown",
   "metadata": {},
   "source": [
    "### Activate telemetry\n",
    "\n",
    "We are going to activate telemetry on the deployed model. Then we will make another call which will end up being logged by both Application Insights and data collection."
   ]
  },
  {
   "cell_type": "code",
   "execution_count": 6,
   "metadata": {},
   "outputs": [],
   "source": [
    "web_service = Webservice(ws, webservice_name)"
   ]
  },
  {
   "cell_type": "code",
   "execution_count": 7,
   "metadata": {},
   "outputs": [],
   "source": [
    "web_service.update(enable_app_insights=True, collect_model_data=True)"
   ]
  },
  {
   "cell_type": "markdown",
   "metadata": {},
   "source": [
    "Make a few calls that will be collected."
   ]
  },
  {
   "cell_type": "code",
   "execution_count": 12,
   "metadata": {},
   "outputs": [
    {
     "name": "stdout",
     "output_type": "stream",
     "text": [
      "Predictions\n",
      "\"[1, 0, 1]\"\n",
      "Predictions\n",
      "\"[1, 0, 1]\"\n",
      "Predictions\n",
      "\"[1, 0, 1]\"\n"
     ]
    }
   ],
   "source": [
    "test_data = {\"data\":[[61, 1, 150, 103],[43, 1, 180, 99],[63,0,138,85]]}\n",
    "\n",
    "headers = {'Content-Type':'application/json', 'Authorization':('Bearer '+ webservice_key)}\n",
    "response = requests.post(webservice_url, json.dumps(test_data), headers=headers)\n",
    "print('Predictions')\n",
    "print(response.text)\n",
    "\n",
    "response = requests.post(webservice_url, json.dumps(test_data), headers=headers)\n",
    "print('Predictions')\n",
    "print(response.text)\n",
    "\n",
    "response = requests.post(webservice_url, json.dumps(test_data), headers=headers)\n",
    "print('Predictions')\n",
    "print(response.text)"
   ]
  },
  {
   "cell_type": "code",
   "execution_count": 13,
   "metadata": {},
   "outputs": [
    {
     "name": "stdout",
     "output_type": "stream",
     "text": [
      "Predictions\n",
      "\"[1]\"\n"
     ]
    }
   ],
   "source": [
    "test_data = {\"data\":[[61, 1, 150, 103]]}\n",
    "\n",
    "headers = {'Content-Type':'application/json', 'Authorization':('Bearer '+ webservice_key)}\n",
    "response = requests.post(webservice_url, json.dumps(test_data), headers=headers)\n",
    "print('Predictions')\n",
    "print(response.text)"
   ]
  },
  {
   "cell_type": "code",
   "execution_count": 14,
   "metadata": {},
   "outputs": [
    {
     "name": "stdout",
     "output_type": "stream",
     "text": [
      "Predictions\n",
      "\"[0]\"\n"
     ]
    }
   ],
   "source": [
    "test_data = {\"data\":[[43, 1, 180, 99]]}\n",
    "\n",
    "headers = {'Content-Type':'application/json', 'Authorization':('Bearer '+ webservice_key)}\n",
    "response = requests.post(webservice_url, json.dumps(test_data), headers=headers)\n",
    "print('Predictions')\n",
    "print(response.text)"
   ]
  },
  {
   "cell_type": "code",
   "execution_count": 15,
   "metadata": {},
   "outputs": [
    {
     "name": "stdout",
     "output_type": "stream",
     "text": [
      "Predictions\n",
      "\"[1]\"\n"
     ]
    }
   ],
   "source": [
    "test_data = {\"data\":[[63,0,138,85]]}\n",
    "\n",
    "headers = {'Content-Type':'application/json', 'Authorization':('Bearer '+ webservice_key)}\n",
    "response = requests.post(webservice_url, json.dumps(test_data), headers=headers)\n",
    "print('Predictions')\n",
    "print(response.text)"
   ]
  },
  {
   "cell_type": "code",
   "execution_count": null,
   "metadata": {},
   "outputs": [],
   "source": []
  }
 ],
 "metadata": {
  "kernelspec": {
   "display_name": "Python 3",
   "language": "python",
   "name": "python3"
  },
  "language_info": {
   "codemirror_mode": {
    "name": "ipython",
    "version": 3
   },
   "file_extension": ".py",
   "mimetype": "text/x-python",
   "name": "python",
   "nbconvert_exporter": "python",
   "pygments_lexer": "ipython3",
   "version": "3.6.2"
  }
 },
 "nbformat": 4,
 "nbformat_minor": 2
}
